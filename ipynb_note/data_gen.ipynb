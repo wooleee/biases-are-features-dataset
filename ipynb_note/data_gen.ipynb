{
 "metadata": {
  "language_info": {
   "codemirror_mode": {
    "name": "ipython",
    "version": 3
   },
   "file_extension": ".py",
   "mimetype": "text/x-python",
   "name": "python",
   "nbconvert_exporter": "python",
   "pygments_lexer": "ipython3",
   "version": "3.7.9"
  },
  "orig_nbformat": 2,
  "kernelspec": {
   "name": "python379jvsc74a57bd097c33557b05ef5306abbb50ee312364a08249602a0177aee52c102bcf85fba49",
   "display_name": "Python 3.7.9 64-bit ('2021spring': conda)"
  }
 },
 "nbformat": 4,
 "nbformat_minor": 2,
 "cells": [
  {
   "cell_type": "code",
   "execution_count": 13,
   "metadata": {},
   "outputs": [],
   "source": [
    "from collections import defaultdict\n",
    "import os\n",
    "import shutil\n",
    "import cv2\n",
    "import matplotlib.pyplot as plt\n",
    "import numpy as np\n",
    "import xmltodict\n",
    "\n",
    "root_directory = os.path.join(os.getcwd()) # '/Users/Username/dataset'\n",
    "images_directory = os.path.join(root_directory, \"images\")\n",
    "masks_directory = os.path.join(root_directory, \"annotations\", \"trimaps\")\n",
    "xml_directory = os.path.join(root_directory, \"annotations\", \"xmls\")\n",
    "\n",
    "# Dir_name \n",
    "# [GREY]Grey Scale - rgb2gray\n",
    "# [SILO]실루엣 - 고양이 흰색 그외 검정색\n",
    "# [TXTR]텍스쳐 - 바운딩 박스 크롭하고 그 중 Half\n",
    "# [BACK]배경 - 고양이 검정색 배경 그대로\n",
    "\n",
    "aug_dir_names = ['grey', 'silo', 'txtr', 'back']\n",
    "for name in aug_dir_names:\n",
    "    dir_name = os.path.join(root_directory, f'images_{name}')\n",
    "    if not os.path.exists(dir_name):\n",
    "        os.mkdir(dir_name)\n",
    "\n",
    "images_filenames = list(sorted(os.listdir(images_directory)))\n",
    "correct_images_filenames = [i for i in images_filenames if cv2.imread(os.path.join(images_directory, i)) is not None]\n",
    "correct_images_filenames = [i for i in correct_images_filenames if os.path.splitext(i)[1] == '.jpg']"
   ]
  },
  {
   "cell_type": "code",
   "execution_count": 14,
   "metadata": {},
   "outputs": [
    {
     "output_type": "execute_result",
     "data": {
      "text/plain": [
       "'/Users/woolee/biases-are-features-dataset/annotations/xmls'"
      ]
     },
     "metadata": {},
     "execution_count": 14
    }
   ],
   "source": [
    "xml_directory"
   ]
  },
  {
   "cell_type": "code",
   "execution_count": 4,
   "metadata": {},
   "outputs": [],
   "source": [
    "\n",
    "xml_file = '/Users/woolee/biases-are-features-dataset/annotations/xmls/Abyssinian_1.xml'\n",
    "f = open(xml_file)\n",
    "doc = xmltodict.parse(f.read()) "
   ]
  },
  {
   "cell_type": "code",
   "execution_count": 12,
   "metadata": {},
   "outputs": [
    {
     "output_type": "stream",
     "name": "stdout",
     "text": [
      "333 72 425 158\n"
     ]
    }
   ],
   "source": [
    "xmin = doc['annotation']['object']['bndbox']['xmin']\n",
    "ymin = doc['annotation']['object']['bndbox']['ymin']\n",
    "xmax = doc['annotation']['object']['bndbox']['xmax']\n",
    "ymax = doc['annotation']['object']['bndbox']['ymax']\n",
    "print(xmin, ymin, xmax, ymax)"
   ]
  },
  {
   "cell_type": "code",
   "execution_count": 11,
   "metadata": {},
   "outputs": [
    {
     "output_type": "execute_result",
     "data": {
      "text/plain": [
       "OrderedDict([('xmin', '333'),\n",
       "             ('ymin', '72'),\n",
       "             ('xmax', '425'),\n",
       "             ('ymax', '158')])"
      ]
     },
     "metadata": {},
     "execution_count": 11
    }
   ],
   "source": [
    "doc['annotation']['object']['bndbox']\n",
    "\n",
    "'''\n",
    "OrderedDict([('xmin', '333'),\n",
    "             ('ymin', '72'),\n",
    "             ('xmax', '425'),\n",
    "             ('ymax', '158')])\n",
    "'''"
   ]
  },
  {
   "cell_type": "code",
   "execution_count": null,
   "metadata": {},
   "outputs": [],
   "source": []
  },
  {
   "cell_type": "code",
   "execution_count": 30,
   "metadata": {},
   "outputs": [],
   "source": [
    "\"\"\"## TXTR\"\"\"\n",
    "def get_bb(image_filename):\n",
    "    '''\n",
    "    About: Finding Bounding Box for each image, using xml file. If no xml file found, just return zeros.\n",
    "    Input: Image_filename\n",
    "    Output: xmin, ymin, xmax, ymax (location of bb)\n",
    "    '''\n",
    "    xml_dir = os.path.join(xml_directory, image_filename.replace(\".jpg\", \".xml\"))\n",
    "    try:\n",
    "        f = open(xml_dir)\n",
    "        doc = xmltodict.parse(f.read()) \n",
    "        xmin = int(doc['annotation']['object']['bndbox']['xmin'])\n",
    "        ymin = int(doc['annotation']['object']['bndbox']['ymin'])\n",
    "        xmax = int(doc['annotation']['object']['bndbox']['xmax'])\n",
    "        ymax = int(doc['annotation']['object']['bndbox']['ymax'])\n",
    "\n",
    "    except:\n",
    "        xmin, ymin, xmax, ymax = 0,0,0,0\n",
    "\n",
    "    return xmin, ymin, xmax, ymax\n",
    "\n",
    "def to_txtr(images_filenames, images_directory, target_directory):\n",
    "    for i, image_filename in enumerate(images_filenames[0:10]):\n",
    "        extension = os.path.splitext(image_filename)[1] # find extension to exclue '.mat'\n",
    "        if (extension == '.jpg'):\n",
    "            image = cv2.imread(os.path.join(images_directory, image_filename))\n",
    "            w, h = image.shape[0], image.shape[1]\n",
    "            xmin, ymin, xmax, ymax = get_bb(image_filename)\n",
    "            \n",
    "        if xmin == 0 and ymin == 0 and xmax == 0 and ymax == 0:\n",
    "            xmax = w\n",
    "            ymax = h\n",
    "\n",
    "        txtred_image = image[ymin + int((ymax-ymin)/4): ymax - int((ymax-ymin)/4),\\\n",
    "                         xmin + int((xmax-xmin)/4): xmax - int((xmax-xmin)/4)]\n",
    "        txtred_image = cv2.resize(txtred_image, dsize = (h, w), interpolation = cv2.INTER_LINEAR)\n",
    "        cv2.imwrite(os.path.join(target_directory , image_filename), txtred_image)\n",
    "\n",
    "to_txtr(correct_images_filenames, images_directory, os.path.join(root_directory, \"images_txtr\"))"
   ]
  },
  {
   "cell_type": "code",
   "execution_count": 2,
   "metadata": {},
   "outputs": [],
   "source": [
    "\"\"\"## TXTR\"\"\"\n",
    "\n",
    "def preprocess_mask_txtr(mask):\n",
    "    mask = mask.astype(np.uint8)\n",
    "    mask[(mask == 2.0) | (mask == 3.0)] = 0.0\n",
    "    mask[mask == 1.0] = 255\n",
    "    return mask\n",
    "\n",
    "def to_txtr(images_filenames, images_directory, target_directory):\n",
    "    for i, image_filename in enumerate(images_filenames):\n",
    "        extension = os.path.splitext(image_filename)[1] # find extension to exclue '.mat'\n",
    "        if (extension == '.jpg'):\n",
    "            image = cv2.imread(os.path.join(images_directory, image_filename))\n",
    "            mask = cv2.imread(os.path.join(masks_directory, image_filename.replace(\".jpg\", \".png\")), cv2.IMREAD_UNCHANGED,)\n",
    "        _,thresh = cv2.threshold(mask,1,255,0)\n",
    "        contours, _ = cv2.findContours(thresh, cv2.RETR_LIST, cv2.CHAIN_APPROX_SIMPLE) # contours: (1, 4, 1, 2)\n",
    "        bbs = []\n",
    "        for contour in contours:\n",
    "            bb = cv2.boundingRect(contour)\n",
    "            bbs.append(bb)\n",
    "\n",
    "        # bbs 맨뒤의 요소: 이미지 전체 박스 지칭 (0,0,w,h)\n",
    "        # bbs 맨뒤에서 두번째 요소: Mask 지칭\n",
    "        \n",
    "        if len(bbs) > 1:\n",
    "            x,y,w,h = bbs[-2]\n",
    "            if not w > 50 or h > 50: # 이미지 bb가 지극히 작아서 (= 너비와 높이가 50픽셀도 안되어서) BB를 Crop하면 texture는 커녕 점의 형태에 가까운 이미지를 Return합니다. 이럴경우 그냥 이미지 전체에 가운데 1/2만 뽑아내도록 구현했습니다.\n",
    "                x,y,w,h = bbs[-1]\n",
    "                x += int(w/4)\n",
    "                y += int(h/4)\n",
    "                w = int(w/2)\n",
    "                h = int(h/2)\n",
    "\n",
    "        else:\n",
    "            x,y,w,h = bbs[-1]\n",
    "\n",
    "        txtred_image = image[y + int(h/4): y + int(3*h/4), x + int(w/4): x + int(3*w/4)]\n",
    "        cv2.imwrite(os.path.join(target_directory , image_filename), txtred_image)\n",
    "\n",
    "# to_txtr(correct_images_filenames, images_directory, os.path.join(root_directory, \"images_txtr\"))"
   ]
  }
 ]
}