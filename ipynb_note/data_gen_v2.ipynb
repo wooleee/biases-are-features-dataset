{
 "metadata": {
  "language_info": {
   "codemirror_mode": {
    "name": "ipython",
    "version": 3
   },
   "file_extension": ".py",
   "mimetype": "text/x-python",
   "name": "python",
   "nbconvert_exporter": "python",
   "pygments_lexer": "ipython3",
   "version": "3.7.9"
  },
  "orig_nbformat": 2,
  "kernelspec": {
   "name": "python379jvsc74a57bd097c33557b05ef5306abbb50ee312364a08249602a0177aee52c102bcf85fba49",
   "display_name": "Python 3.7.9 64-bit ('2021spring': conda)"
  }
 },
 "nbformat": 4,
 "nbformat_minor": 2,
 "cells": [
  {
   "source": [
    "## Global Settings"
   ],
   "cell_type": "markdown",
   "metadata": {}
  },
  {
   "cell_type": "code",
   "execution_count": 5,
   "metadata": {},
   "outputs": [],
   "source": [
    "from collections import defaultdict\n",
    "import os\n",
    "import shutil\n",
    "import cv2\n",
    "import matplotlib.pyplot as plt\n",
    "import numpy as np\n",
    "\n",
    "%matplotlib inline"
   ]
  },
  {
   "cell_type": "code",
   "execution_count": 7,
   "metadata": {},
   "outputs": [],
   "source": [
    "root_directory = os.path.join(os.getcwd()) # '/Users/Username/dataset'\n",
    "images_directory = os.path.join(root_directory, \"images\")\n",
    "masks_directory = os.path.join(root_directory, \"annotations\", \"trimaps\")\n",
    "\n",
    "# Dir_name \n",
    "# [GREY]Grey Scale - rgb2gray\n",
    "# [SILO]실루엣 - 고양이 흰색 그외 검정색\n",
    "# [TXTR]텍스쳐 - 바운딩 박스 크롭하고 그 중 Half\n",
    "# [BACK]배경 - 고양이 검정색 배경 그대로\n",
    "\n",
    "aug_dir_names = ['grey', 'silo', 'txtr', 'back']\n",
    "for name in aug_dir_names:\n",
    "    dir_name = os.path.join(root_directory, f'images_{name}')\n",
    "    if not os.path.exists(dir_name):\n",
    "        os.mkdir(dir_name)"
   ]
  },
  {
   "cell_type": "code",
   "execution_count": 8,
   "metadata": {},
   "outputs": [],
   "source": [
    "images_filenames = list(sorted(os.listdir(images_directory)))\n",
    "correct_images_filenames = [i for i in images_filenames if cv2.imread(os.path.join(images_directory, i)) is not None]\n",
    "correct_images_filenames = [i for i in correct_images_filenames if os.path.splitext(i)[1] == '.jpg']"
   ]
  },
  {
   "source": [
    "## SILO"
   ],
   "cell_type": "markdown",
   "metadata": {}
  },
  {
   "cell_type": "code",
   "execution_count": 78,
   "metadata": {},
   "outputs": [],
   "source": [
    "# mask == 1.0: 고양이 부분\n",
    "# mask == 2.0: 배경 부분\n",
    "# mask == 3.0: 테두리 부분\n",
    "def preprocess_mask_silo(mask):\n",
    "    mask = mask.astype(np.uint8)\n",
    "    mask[(mask == 2.0) | (mask == 3.0)] = 0.0\n",
    "    mask[mask == 1.0] = 255\n",
    "    return mask"
   ]
  },
  {
   "cell_type": "code",
   "execution_count": 81,
   "metadata": {},
   "outputs": [],
   "source": [
    "def to_silo(images_filenames, images_directory, target_directory):\n",
    "    for i, image_filename in enumerate(images_filenames):\n",
    "        extension = os.path.splitext(image_filename)[1] # find extension to exclue '.mat'\n",
    "        if (extension == '.jpg'):\n",
    "            image = cv2.imread(os.path.join(images_directory, image_filename))\n",
    "            mask = cv2.imread(os.path.join(masks_directory, image_filename.replace(\".jpg\", \".png\")), cv2.IMREAD_UNCHANGED,)\n",
    "            silouetted = preprocess_mask_silo(mask)    \n",
    "            cv2.imwrite(os.path.join(target_directory , image_filename), silouetted)     "
   ]
  },
  {
   "cell_type": "code",
   "execution_count": null,
   "metadata": {},
   "outputs": [],
   "source": [
    "to_silo(correct_images_filenames, images_directory, os.path.join(root_directory, \"images_silo\"))"
   ]
  },
  {
   "source": [
    "## BACK"
   ],
   "cell_type": "markdown",
   "metadata": {}
  },
  {
   "cell_type": "code",
   "execution_count": 132,
   "metadata": {},
   "outputs": [],
   "source": [
    "def preprocess_mask_back(mask):\n",
    "    mask = mask.astype(np.uint8)\n",
    "    mask[mask == 2.0] = 255\n",
    "    mask[(mask == 1.0) | (mask == 3.0)] = 0\n",
    "    return mask"
   ]
  },
  {
   "cell_type": "code",
   "execution_count": 133,
   "metadata": {},
   "outputs": [],
   "source": [
    "def to_back(images_filenames, images_directory, target_directory):\n",
    "    for i, image_filename in enumerate(images_filenames):\n",
    "        extension = os.path.splitext(image_filename)[1] # find extension to exclue '.mat'\n",
    "        if (extension == '.jpg'):\n",
    "            image = cv2.imread(os.path.join(images_directory, image_filename))\n",
    "            mask = cv2.imread(os.path.join(masks_directory, image_filename.replace(\".jpg\", \".png\")), cv2.IMREAD_UNCHANGED,)\n",
    "            mask = preprocess_mask_back(mask)  \n",
    "            background_only = cv2.bitwise_and(image, image, mask = mask)\n",
    "            cv2.imwrite(os.path.join(target_directory , image_filename), background_only)"
   ]
  },
  {
   "cell_type": "code",
   "execution_count": 134,
   "metadata": {},
   "outputs": [],
   "source": [
    "to_back(correct_images_filenames, images_directory, os.path.join(root_directory, \"images_back\"))"
   ]
  },
  {
   "source": [
    "## GREY"
   ],
   "cell_type": "markdown",
   "metadata": {}
  },
  {
   "cell_type": "code",
   "execution_count": 145,
   "metadata": {},
   "outputs": [],
   "source": [
    "def to_grey(images_filenames, images_directory, target_directory):\n",
    "    for i, image_filename in enumerate(images_filenames):\n",
    "        extension = os.path.splitext(image_filename)[1] # find extension to exclue '.mat'\n",
    "        if (extension == '.jpg'):\n",
    "            image = cv2.imread(os.path.join(images_directory, image_filename))\n",
    "            grey_image = cv2.cvtColor(image, cv2.COLOR_BGR2GRAY)\n",
    "            cv2.imwrite(os.path.join(target_directory , image_filename), grey_image)"
   ]
  },
  {
   "cell_type": "code",
   "execution_count": 146,
   "metadata": {},
   "outputs": [],
   "source": [
    "to_grey(correct_images_filenames, images_directory, os.path.join(root_directory, \"images_grey\"))"
   ]
  },
  {
   "source": [
    "## TXTR"
   ],
   "cell_type": "markdown",
   "metadata": {}
  },
  {
   "cell_type": "code",
   "execution_count": 69,
   "metadata": {},
   "outputs": [],
   "source": [
    "def preprocess_mask_txtr(mask):\n",
    "    mask = mask.astype(np.uint8)\n",
    "    mask[(mask == 2.0) | (mask == 3.0)] = 0.0\n",
    "    mask[mask == 1.0] = 255\n",
    "    return mask"
   ]
  },
  {
   "cell_type": "code",
   "execution_count": 3,
   "metadata": {},
   "outputs": [],
   "source": [
    "def to_txtr(images_filenames, images_directory, target_directory):\n",
    "    for i, image_filename in enumerate(images_filenames):\n",
    "        extension = os.path.splitext(image_filename)[1] # find extension to exclue '.mat'\n",
    "        if (extension == '.jpg'):\n",
    "            image = cv2.imread(os.path.join(images_directory, image_filename))\n",
    "            mask = cv2.imread(os.path.join(masks_directory, image_filename.replace(\".jpg\", \".png\")), cv2.IMREAD_UNCHANGED,)\n",
    "        _,thresh = cv2.threshold(mask,1,255,0)\n",
    "        contours, _ = cv2.findContours(thresh, cv2.RETR_LIST, cv2.CHAIN_APPROX_SIMPLE) # contours: (1, 4, 1, 2)\n",
    "        bbs = []\n",
    "        for contour in contours:\n",
    "            bb = cv2.boundingRect(contour)\n",
    "            bbs.append(bb)\n",
    "\n",
    "        # bbs 맨뒤의 요소: 이미지 전체 박스 지칭 (0,0,w,h)\n",
    "        # bbs 맨뒤에서 두번째 요소: Mask 지칭\n",
    "        \n",
    "        if len(bbs) > 1:\n",
    "            x,y,w,h = bbs[-2]\n",
    "            if not w > 50 or h > 50: # 이미지 bb가 지극히 작아서 (= 너비와 높이가 50픽셀도 안되어서) BB를 Crop하면 texture는 커녕 점의 형태에 가까운 이미지를 Return합니다. 이럴경우 그냥 이미지 전체에 가운데 1/2만 뽑아내도록 구현했습니다.\n",
    "                x,y,w,h = bbs[-1]\n",
    "                x += int(w/4)\n",
    "                y += int(h/4)\n",
    "                w = int(w/2)\n",
    "                h = int(h/2)\n",
    "\n",
    "        else:\n",
    "            x,y,w,h = bbs[-1]\n",
    "\n",
    "        txtred_image = image[y + int(h/4): y + int(3*h/4), x + int(w/4): x + int(3*w/4)]\n",
    "        cv2.imwrite(os.path.join(target_directory , image_filename), txtred_image)"
   ]
  },
  {
   "cell_type": "code",
   "execution_count": 4,
   "metadata": {},
   "outputs": [
    {
     "output_type": "error",
     "ename": "NameError",
     "evalue": "name 'correct_images_filenames' is not defined",
     "traceback": [
      "\u001b[0;31m---------------------------------------------------------------------------\u001b[0m",
      "\u001b[0;31mNameError\u001b[0m                                 Traceback (most recent call last)",
      "\u001b[0;32m<ipython-input-4-e91b9ab83edb>\u001b[0m in \u001b[0;36m<module>\u001b[0;34m\u001b[0m\n\u001b[0;32m----> 1\u001b[0;31m \u001b[0mto_txtr\u001b[0m\u001b[0;34m(\u001b[0m\u001b[0mcorrect_images_filenames\u001b[0m\u001b[0;34m,\u001b[0m \u001b[0mimages_directory\u001b[0m\u001b[0;34m,\u001b[0m \u001b[0mos\u001b[0m\u001b[0;34m.\u001b[0m\u001b[0mpath\u001b[0m\u001b[0;34m.\u001b[0m\u001b[0mjoin\u001b[0m\u001b[0;34m(\u001b[0m\u001b[0mroot_directory\u001b[0m\u001b[0;34m,\u001b[0m \u001b[0;34m\"images_txtr\"\u001b[0m\u001b[0;34m)\u001b[0m\u001b[0;34m)\u001b[0m\u001b[0;34m\u001b[0m\u001b[0;34m\u001b[0m\u001b[0m\n\u001b[0m",
      "\u001b[0;31mNameError\u001b[0m: name 'correct_images_filenames' is not defined"
     ]
    }
   ],
   "source": [
    "to_txtr(correct_images_filenames, images_directory, os.path.join(root_directory, \"images_txtr\"))"
   ]
  }
 ]
}